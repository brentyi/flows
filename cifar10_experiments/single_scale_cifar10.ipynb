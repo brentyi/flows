{
 "cells": [
  {
   "cell_type": "code",
   "execution_count": 71,
   "metadata": {
    "collapsed": false
   },
   "outputs": [],
   "source": [
    "# imports\n",
    "import numpy as np \n",
    "import tensorflow as tf\n",
    "import matplotlib.pyplot as plt\n",
    "import numpy as np\n",
    "import matplotlib.mlab as mlab\n",
    "import math\n",
    "import time\n",
    "import pickle\n",
    "%matplotlib inline\n",
    "\n",
    "import os\n",
    "import sys\n",
    "module_path = os.path.abspath(os.path.join('..'))\n",
    "if module_path not in sys.path:\n",
    "    sys.path.append(module_path)\n",
    "    \n",
    "try:\n",
    "    import nbimporter\n",
    "    from utils import helpful_functions as hf\n",
    "    from utils.layers import squeeze_layer, preprocess_layer, coupling_layer, invertible_1x1_conv, int_shape, glow_coupling_layer, actnorm_layer\n",
    "except:\n",
    "    print(\"pip install nbimporter\")\n",
    "    raise Exception(\"need to install\")\n",
    "\n",
    "THIRTYTWO = 32\n",
    "THREE = 1\n",
    "DIM = THIRTYTWO * THIRTYTWO * THREE\n",
    "WIDTH = 512\n"
   ]
  },
  {
   "cell_type": "code",
   "execution_count": 72,
   "metadata": {
    "collapsed": true
   },
   "outputs": [],
   "source": [
    "EXPERIMENT_NAME = \"samples100_lambda0to1over500steps_butfirst5000unlabeled\""
   ]
  },
  {
   "cell_type": "code",
   "execution_count": 73,
   "metadata": {
    "collapsed": true
   },
   "outputs": [],
   "source": [
    "training_data, train_labels_o, test_data, test_labels_o = hf.get_mnist(orig=True)\n",
    "\n",
    "# 59,000 for training, 1000 for validation\n",
    "training_data, train_labels_o, val_data, val_labels_o   = hf.split_train_val(training_data, train_labels_o, validation_size=1000)\n",
    "\n",
    "# get 1000 for labed supervised training\n",
    "training_data, train_labels_o, labeled_data, labeled_labels_o = hf.split_train_val(training_data, train_labels_o, validation_size=1000)\n",
    "\n",
    "#hf.show_sample(training_data[0])\n",
    "\n",
    "val_labels = hf.make_one_hot(val_labels_o)\n",
    "labeled_labels = hf.make_one_hot(labeled_labels_o)\n",
    "training_labels = hf.make_one_hot(train_labels_o)\n",
    "test_labels = hf.make_one_hot(test_labels_o)"
   ]
  },
  {
   "cell_type": "code",
   "execution_count": null,
   "metadata": {
    "collapsed": true
   },
   "outputs": [],
   "source": []
  },
  {
   "cell_type": "code",
   "execution_count": null,
   "metadata": {
    "collapsed": false
   },
   "outputs": [],
   "source": []
  },
  {
   "cell_type": "code",
   "execution_count": 74,
   "metadata": {
    "collapsed": false
   },
   "outputs": [
    {
     "name": "stdout",
     "output_type": "stream",
     "text": [
      "Building network!\n",
      "Building inverse!\n",
      "Building classifier!\n",
      "Building loss!\n",
      "Initializing act norm!\n",
      "Finished!\n"
     ]
    }
   ],
   "source": [
    "'''\n",
    "Testing Simple Model (no multiscale)\n",
    "'''\n",
    "tf.reset_default_graph()\n",
    "sess = tf.Session()\n",
    "\n",
    "ph_x         = tf.placeholder(tf.float32, [None, THIRTYTWO, THIRTYTWO, THREE], name=\"x\")\n",
    "ph_inverse_z = tf.placeholder(tf.float32, [None, DIM], name=\"z\")\n",
    "op_init_actnorm = []\n",
    "\n",
    "#DEPTH_PER_LEVEL = 2\n",
    "#LEVELS = 1\n",
    "DEPTH_PER_LEVEL = 16\n",
    "LEVELS = 3\n",
    "\n",
    "##### <flow network>\n",
    "print(\"Building network!\")\n",
    "tf_layer = ph_x\n",
    "tf_log_jacobian_determinant = 0\n",
    "tf_layer, log_det = preprocess_layer(tf_layer)\n",
    "tf_log_jacobian_determinant += log_det\n",
    "for j in range(LEVELS):\n",
    "    tf_layer = squeeze_layer(tf_layer)\n",
    "    with tf.variable_scope(\"module_\" + str(j)):\n",
    "        for i in range(DEPTH_PER_LEVEL):\n",
    "            with tf.variable_scope(\"layer_\" + str(i)):\n",
    "                tf_layer, log_det = glow_coupling_layer(tf_layer, op_init_actnorm)\n",
    "                tf_log_jacobian_determinant += log_det\n",
    "\n",
    "\n",
    "restore_shape = list(tf_layer.shape)\n",
    "restore_shape[0] = -1\n",
    "tf_z = tf.reshape(tf_layer, (-1, DIM))\n",
    "\n",
    "##### <inverse>\n",
    "print(\"Building inverse!\")\n",
    "tf_layer = ph_inverse_z\n",
    "tf_layer = tf.reshape(tf_layer, restore_shape)\n",
    "for j in reversed(range(LEVELS)):\n",
    "    with tf.variable_scope(\"module_\" + str(j)):\n",
    "        for i in reversed(range(DEPTH_PER_LEVEL)):\n",
    "            with tf.variable_scope(\"layer_\" + str(i)):\n",
    "                tf_layer = glow_coupling_layer(tf_layer, op_init_actnorm, reverse=True)\n",
    "        tf_layer = squeeze_layer(tf_layer, reverse=True)     \n",
    "\n",
    "tf_layer = preprocess_layer(tf_layer, reverse=True)        \n",
    "tf_inverse_x = tf_layer\n",
    "\n",
    "tf_sample_summary = tf.summary.image(\"samples\", tf_inverse_x)\n",
    "\n",
    "# <supervised training network>\n",
    "print(\"Building classifier!\")\n",
    "def res_block(tf_in, hidden_dim):\n",
    "    tf_layer = tf_in\n",
    "    tf_layer = tf.layers.dense(inputs=tf_layer, units=hidden_dim, activation=tf.nn.relu)\n",
    "    tf_layer = tf.layers.dense(inputs=tf_layer, units=hidden_dim)\n",
    "    return tf.nn.relu(tf_layer + tf_in)\n",
    "\n",
    "FC_UNITS      = 64\n",
    "NUM_RES_BLOCKS = 1\n",
    "ph_y          = tf.placeholder(tf.int32, [None,10], name=\"x\")\n",
    "\n",
    "tf_layer = tf.layers.dense(inputs=tf_z, units=FC_UNITS, activation=tf.nn.relu)\n",
    "with tf.name_scope(\"classifier\"):\n",
    "    for i in range(NUM_RES_BLOCKS):\n",
    "        tf_layer = res_block(tf_layer, FC_UNITS)\n",
    "    \n",
    "    tf_logits = tf.layers.dense(inputs=tf_layer, units=10)\n",
    "\n",
    "    tf_prob_y = tf.nn.softmax(tf_logits)\n",
    "    tf_classifier_loss = tf.reduce_mean(tf.nn.softmax_cross_entropy_with_logits_v2(logits=tf_logits, labels=ph_y))\n",
    "\n",
    "    tf_true_labels = tf.argmax(input=ph_y, axis=1)\n",
    "    tf_predicted_labels = tf.argmax(input=tf_logits, axis=1)\n",
    "    tf_accuracy = tf.reduce_mean(tf.cast(tf.equal(tf_true_labels, tf_predicted_labels), tf.float32))\n",
    "    \n",
    "    tf_classifier_validation_summary = tf.summary.merge([\n",
    "        tf.summary.scalar(\"classifier_accuracy_validation\", tf_accuracy)\n",
    "    ])\n",
    "    \n",
    "    tf_classifier_summary = tf.summary.merge([\n",
    "        tf.summary.scalar(\"classifier_accuracy\", tf_accuracy),\n",
    "        tf.summary.scalar(\"classifier_loss\", tf_classifier_loss)\n",
    "    ])\n",
    "\n",
    "##### <loss> & training!!\n",
    "print(\"Building loss!\")\n",
    "tf_global_step = tf.train.get_or_create_global_step()\n",
    "ph_learning_rate = tf.placeholder(tf.float32, shape=(), name=\"learning_rate\")\n",
    "ph_lambda = tf.placeholder(tf.float32, shape=(), name=\"loss_weight\")\n",
    "\n",
    "with tf.name_scope(\"flow_training\"):\n",
    "    tf_log_prob_z = - DIM * 0.5 * tf.log(2 * np.pi) - tf.reduce_sum(tf.square(tf_z) / 2.0, axis=-1)\n",
    "    tf_flow_loss = tf.reduce_mean(\n",
    "        (-tf_log_prob_z - tf_log_jacobian_determinant) / np.log(2) / DIM,\n",
    "        name=\"loss\"\n",
    "    )\n",
    "    \n",
    "    optimizer = tf.train.AdamOptimizer(ph_learning_rate)\n",
    "    tf_gradients, tf_variables = zip(*optimizer.compute_gradients(tf_flow_loss))\n",
    "    tf_gradients, tf_gradients_norm = tf.clip_by_global_norm(tf_gradients, 100)\n",
    "    op_flow_train = optimizer.apply_gradients(zip(tf_gradients, tf_variables), global_step=tf_global_step)\n",
    "\n",
    "    tf_flow_validation_summary = tf.summary.merge([\n",
    "        tf.summary.scalar(\"flow_loss_validation\", tf_flow_loss)\n",
    "    ])\n",
    "    tf_flow_loss_summary = tf.summary.scalar(\"flow_loss\", tf_flow_loss)\n",
    "    tf_flow_summary = tf.summary.merge([\n",
    "        tf_flow_loss_summary,\n",
    "        tf.summary.scalar(\"flow_gradients_norm\", tf_gradients_norm)\n",
    "    ])\n",
    "    \n",
    "with tf.name_scope(\"joint_training\"):\n",
    "    tf_joint_loss = tf_flow_loss * (1.0 - ph_lambda) + tf_classifier_loss * ph_lambda\n",
    "    \n",
    "    optimizer = tf.train.AdamOptimizer(ph_learning_rate)\n",
    "    tf_gradients, tf_variables = zip(*optimizer.compute_gradients(tf_joint_loss))\n",
    "    tf_gradients, tf_gradients_norm = tf.clip_by_global_norm(tf_gradients, 100)\n",
    "    op_joint_train = optimizer.apply_gradients(zip(tf_gradients, tf_variables), global_step=tf_global_step)\n",
    "\n",
    "    tf_joint_summary = tf.summary.merge([\n",
    "        tf_flow_loss_summary,\n",
    "        tf_classifier_summary,\n",
    "        tf.summary.scalar(\"joint_loss\", tf_joint_loss),\n",
    "        tf.summary.scalar(\"joint_gradients_norm\", tf_gradients_norm)\n",
    "    ])\n",
    "\n",
    "tf_validation_summary = tf.summary.merge([\n",
    "    tf_classifier_validation_summary,\n",
    "    tf_flow_validation_summary\n",
    "])\n",
    "\n",
    "\n",
    "op_init = tf.initializers.global_variables()\n",
    "sess.run(op_init)\n",
    "\n",
    "summary_writer = tf.summary.FileWriter('./log/{}'.format(EXPERIMENT_NAME), sess.graph)\n",
    "\n",
    "###### <running init>\n",
    "print(\"Initializing act norm!\")\n",
    "noise = np.random.uniform(0., 1, size=training_data[:100].shape)\n",
    "for op in op_init_actnorm:\n",
    "    sess.run(op, feed_dict={ph_x: training_data[:100] + noise})\n",
    "loss_history = []\n",
    "\n",
    "print(\"Finished!\")\n"
   ]
  },
  {
   "cell_type": "code",
   "execution_count": null,
   "metadata": {
    "collapsed": false
   },
   "outputs": [],
   "source": []
  },
  {
   "cell_type": "code",
   "execution_count": 78,
   "metadata": {
    "collapsed": false
   },
   "outputs": [],
   "source": [
    "###### <running forwards and backwards pass>\n",
    "original = training_data[3:4,:,:,:]\n",
    "\n",
    "z_state = sess.run(tf_z, feed_dict={ ph_x: original })\n",
    "z1 = z_state\n",
    "inv_img = sess.run(tf_inverse_x, feed_dict={ph_inverse_z: z_state})\n",
    "\n",
    "###### <verification>\n",
    "#hf.show_sample(original[0])\n",
    "#hf.show_sample(inv_img[0])\n",
    "assert hf.is_same(original[0], inv_img[0]) == 0"
   ]
  },
  {
   "cell_type": "code",
   "execution_count": null,
   "metadata": {
    "collapsed": true
   },
   "outputs": [],
   "source": []
  },
  {
   "cell_type": "code",
   "execution_count": 79,
   "metadata": {
    "collapsed": false
   },
   "outputs": [
    {
     "data": {
      "image/png": "[encoded data removed]",
      "text/plain": [
       "<Figure size 400x100 with 4 Axes>"
      ]
     },
     "metadata": {},
     "output_type": "display_data"
    }
   ],
   "source": [
    "def show_some_samples():\n",
    "    fig, ax = plt.subplots(nrows=1, ncols=4)\n",
    "    fig.set_figheight(1)\n",
    "    fig.set_figwidth(4)\n",
    "    i = 120\n",
    "    for col in ax:\n",
    "        latent = np.random.normal(size=[DIM], scale=1)\n",
    "        #print(latent.shape)\n",
    "        sample = sess.run(tf_inverse_x, feed_dict={ph_inverse_z: [latent]})\n",
    "        #print(sample.shape)\n",
    "        hf.show_sample(sample[0], show=False, plot=col)\n",
    "    plt.show()\n",
    "\n",
    "show_some_samples()"
   ]
  },
  {
   "cell_type": "code",
   "execution_count": 80,
   "metadata": {
    "collapsed": false
   },
   "outputs": [],
   "source": [
    "np.random.seed(0)\n",
    "VISUALIZATION_LATENTS = np.random.normal(size=[5, DIM], scale=1)\n",
    "np.random.seed()\n",
    "\n",
    "def train(training_data=None,\n",
    "          validation_data=None,\n",
    "          validation_labels=None,\n",
    "          labeled_training=None,\n",
    "          labeled_labels=None,          \n",
    "          iterations=20000,\n",
    "          flow_batch_size=64,\n",
    "          flow_per_validation=1,\n",
    "          loss_history=None,\n",
    "          learning_rate=0.001,\n",
    "          lambda_weight=0,\n",
    "          supervised_batch_size=0\n",
    "         ):\n",
    "\n",
    "        \n",
    "    if not callable(learning_rate):\n",
    "        learning_rate_val = learning_rate\n",
    "        learning_rate = lambda _: learning_rate_val\n",
    "    \n",
    "    if not callable(lambda_weight):\n",
    "        learning_rate_val = lambda_weight\n",
    "        lambda_weight = lambda _: learning_rate_val\n",
    "    \n",
    "    # training_data = training_data.copy() * 1.0\n",
    "    validation_data = validation_data * 1.0\n",
    "    validation_data += np.random.uniform(low=0., high=1.0, size=validation_data.shape)\n",
    "\n",
    "    if loss_history == None:\n",
    "        loss_history = []\n",
    "\n",
    "    saver = tf.train.Saver(max_to_keep=3)\n",
    "\n",
    "    step = 0\n",
    "    training_loss, validation_loss = 0.0, 0.0\n",
    "    supervised_loss, supervised_validation  = 0.0, 0.0\n",
    "    best_validation = 10000\n",
    "\n",
    "    start_time = time.time()\n",
    "    un_sup_idx = 0\n",
    "    sup_idx = 0\n",
    "    \n",
    "    if training_data is not None:\n",
    "        train_count = len(training_data)\n",
    "        total_batches = int(train_count / flow_batch_size)\n",
    "    if labeled_training is not None:\n",
    "        labeled_train_count = len(labeled_training)\n",
    "        labeled_total_batches = int(labeled_train_count / supervised_batch_size)\n",
    "    \n",
    "    validation_step = 20\n",
    "    save_step = 400\n",
    "\n",
    "    for step in range(iterations):\n",
    "\n",
    "        if step % validation_step == 0:\n",
    "            # Add samples to tensorboard\n",
    "            summary, global_step = sess.run([tf_sample_summary, tf_global_step], feed_dict={ph_inverse_z: VISUALIZATION_LATENTS})\n",
    "            summary_writer.add_summary(summary, global_step)\n",
    "            \n",
    "            validation_loss, summary, global_step = sess.run(\n",
    "                [tf_flow_loss, tf_validation_summary, tf_global_step],\n",
    "                feed_dict={\n",
    "                    ph_x: validation_data + np.random.uniform(low=0.0, high=1.0, size=validation_data.shape),\n",
    "                    ph_y: validation_labels\n",
    "                }\n",
    "            )\n",
    "            summary_writer.add_summary(summary, global_step)\n",
    "\n",
    "        if step % save_step == 0:\n",
    "            print(\"saving\")\n",
    "            save_path = saver.save(sess, \"ckpts/model_{}_{}.ckpt\".format(EXPERIMENT_NAME, step))\n",
    "                    \n",
    "                    \n",
    "        for fpv in range(flow_per_validation):\n",
    "            if not flow_batch_size == 0:\n",
    "\n",
    "                if un_sup_idx == 0:\n",
    "                    np.random.shuffle(training_data)\n",
    "                minibatch = np.array(training_data[ (un_sup_idx*flow_batch_size) \n",
    "                                                  : ((un_sup_idx+1) * flow_batch_size) , :])\n",
    "                un_sup_idx += 1\n",
    "                un_sup_idx = un_sup_idx % total_batches\n",
    "\n",
    "                training_loss, _, summary, global_step = sess.run(\n",
    "                    [tf_flow_loss, op_flow_train, tf_flow_summary, tf_global_step],\n",
    "                    feed_dict={\n",
    "                        ph_x: minibatch + np.random.uniform(low=0.0, high=1.0, size=minibatch.shape),\n",
    "                        ph_learning_rate: learning_rate(step)\n",
    "                    }\n",
    "                )\n",
    "                summary_writer.add_summary(summary, global_step)\n",
    "\n",
    "        if not supervised_batch_size == 0:\n",
    "\n",
    "            # train supervised objective\n",
    "            if sup_idx == 0:\n",
    "                idxs = np.arange(0, labeled_train_count)\n",
    "                np.random.shuffle(idxs)\n",
    "                labeled_training  = labeled_training[idxs]\n",
    "                labeled_labels    = labeled_labels[idxs]\n",
    "\n",
    "            minibatch = np.array(labeled_training[(sup_idx*supervised_batch_size) \n",
    "                                                  : ((sup_idx+1) * supervised_batch_size) , :])\n",
    "            minibatch_labels = np.array(labeled_labels[(sup_idx*supervised_batch_size) \n",
    "                                                       : ((sup_idx+1) * supervised_batch_size)])\n",
    "            \n",
    "            sup_idx += 1\n",
    "            sup_idx = sup_idx % labeled_total_batches\n",
    "            \n",
    "            supervised_loss, _, summary, global_step = sess.run(\n",
    "                [tf_joint_loss, op_joint_train, tf_joint_summary, tf_global_step],\n",
    "                feed_dict={\n",
    "                    ph_x: minibatch + np.random.uniform(low=0.0, high=1.0, size=minibatch.shape),\n",
    "                    ph_y: minibatch_labels,\n",
    "                    ph_learning_rate: learning_rate(step),\n",
    "                    ph_lambda: lambda_weight(step)\n",
    "                }\n",
    "            )\n",
    "            summary_writer.add_summary(summary, global_step)\n",
    "            \n",
    "\n",
    "        if step % 20 == 0:\n",
    "            print(\"\\tSteps =\", step, \"\\tTraining loss =\", training_loss, \"\\tSupervised loss =\", supervised_loss)\n",
    "\n",
    "        loss_history.append((training_loss, validation_loss, supervised_loss, supervised_validation))\n",
    "        validation_loss = None\n",
    "        supervised_validation = None"
   ]
  },
  {
   "cell_type": "markdown",
   "metadata": {},
   "source": [
    "# Experiments"
   ]
  },
  {
   "cell_type": "code",
   "execution_count": 81,
   "metadata": {
    "collapsed": false
   },
   "outputs": [],
   "source": [
    "# load a checkpoint\n",
    "# # restore to previous model\n",
    "if False:\n",
    "    print(\"start loading\")\n",
    "    \n",
    "    checkpoint_dir = \"trained_ckpts_mnist_16_depth\"\n",
    "    model_number = 199\n",
    "    #print(variables_can_be_restored)\n",
    "    variables_can_be_restored = tf.train.list_variables(checkpoint_dir)\n",
    "    \n",
    "    tf.train.load_variable('/home/user/logdir/checkpoint', 'variable_name')\n",
    "    \n",
    "    \n",
    "    temp_saver = tf.train.Saver(variables_can_be_restored)\n",
    "    ckpt_state = tf.train.get_checkpoint_state(checkpoint_dir, \"model_\" + str(model_number) +  \".ckpt\")\n",
    "    print('Loading checkpoint %s' % ckpt_state.model_checkpoint_path)\n",
    "    temp_saver.restore(sess, ckpt_state.model_checkpoint_path)\n",
    "\n",
    "    \n",
    "    print(\"done loading\")"
   ]
  },
  {
   "cell_type": "code",
   "execution_count": null,
   "metadata": {
    "collapsed": false
   },
   "outputs": [],
   "source": [
    "## Only Unsupervised\n",
    "def lr_with_warmup(step):\n",
    "    warmup_steps = 250\n",
    "    learning_rate = 1e-3\n",
    "    return min(learning_rate * step / warmup_steps, learning_rate)\n",
    "\n",
    "train(\n",
    "    training_data,\n",
    "    val_data,\n",
    "    val_labels,\n",
    "    iterations=500,\n",
    "    flow_batch_size=64*2,\n",
    "    loss_history=loss_history,\n",
    "    learning_rate=lr_with_warmup\n",
    ")"
   ]
  },
  {
   "cell_type": "code",
   "execution_count": null,
   "metadata": {
    "collapsed": true
   },
   "outputs": [],
   "source": []
  },
  {
   "cell_type": "code",
   "execution_count": 60,
   "metadata": {
    "collapsed": false
   },
   "outputs": [
    {
     "name": "stdout",
     "output_type": "stream",
     "text": [
      "saving\n",
      "\tSteps = 0 \tTraining loss = 0.0 \tSupervised loss = 8.537121\n",
      "\tSteps = 20 \tTraining loss = 0.0 \tSupervised loss = 4.8443227\n",
      "\tSteps = 40 \tTraining loss = 0.0 \tSupervised loss = 4.3209615\n",
      "\tSteps = 60 \tTraining loss = 0.0 \tSupervised loss = 3.9000802\n",
      "\tSteps = 80 \tTraining loss = 0.0 \tSupervised loss = 3.3920403\n",
      "\tSteps = 100 \tTraining loss = 0.0 \tSupervised loss = 2.8421814\n",
      "\tSteps = 120 \tTraining loss = 0.0 \tSupervised loss = 2.146257\n",
      "\tSteps = 140 \tTraining loss = 0.0 \tSupervised loss = 1.9767644\n",
      "\tSteps = 160 \tTraining loss = 0.0 \tSupervised loss = 1.6928744\n",
      "\tSteps = 180 \tTraining loss = 0.0 \tSupervised loss = 1.3831701\n",
      "\tSteps = 200 \tTraining loss = 0.0 \tSupervised loss = 1.1517577\n",
      "\tSteps = 220 \tTraining loss = 0.0 \tSupervised loss = 1.015177\n",
      "\tSteps = 240 \tTraining loss = 0.0 \tSupervised loss = 0.94834316\n",
      "\tSteps = 260 \tTraining loss = 0.0 \tSupervised loss = 0.83845997\n",
      "\tSteps = 280 \tTraining loss = 0.0 \tSupervised loss = 0.7334696\n",
      "\tSteps = 300 \tTraining loss = 0.0 \tSupervised loss = 0.65404934\n",
      "\tSteps = 320 \tTraining loss = 0.0 \tSupervised loss = 0.5786562\n",
      "\tSteps = 340 \tTraining loss = 0.0 \tSupervised loss = 0.4982721\n",
      "\tSteps = 360 \tTraining loss = 0.0 \tSupervised loss = 0.4399027\n",
      "\tSteps = 380 \tTraining loss = 0.0 \tSupervised loss = 0.36718163\n",
      "saving\n",
      "\tSteps = 400 \tTraining loss = 0.0 \tSupervised loss = 0.28543717\n",
      "\tSteps = 420 \tTraining loss = 0.0 \tSupervised loss = 0.23028222\n",
      "\tSteps = 440 \tTraining loss = 0.0 \tSupervised loss = 0.16895548\n",
      "\tSteps = 460 \tTraining loss = 0.0 \tSupervised loss = 0.11167444\n",
      "\tSteps = 480 \tTraining loss = 0.0 \tSupervised loss = 0.054967362\n",
      "\tSteps = 500 \tTraining loss = 0.0 \tSupervised loss = 7.119589e-05\n",
      "\tSteps = 520 \tTraining loss = 0.0 \tSupervised loss = 1.3930739e-05\n",
      "\tSteps = 540 \tTraining loss = 0.0 \tSupervised loss = 8.2887215e-07\n",
      "\tSteps = 560 \tTraining loss = 0.0 \tSupervised loss = 3.6507805e-07\n",
      "\tSteps = 580 \tTraining loss = 0.0 \tSupervised loss = 9.3690335e-07\n",
      "\tSteps = 600 \tTraining loss = 0.0 \tSupervised loss = 4.079178e-07\n"
     ]
    },
    {
     "ename": "KeyboardInterrupt",
     "evalue": "",
     "output_type": "error",
     "traceback": [
      "\u001b[1;31m---------------------------------------------------------------------------\u001b[0m",
      "\u001b[1;31mKeyboardInterrupt\u001b[0m                         Traceback (most recent call last)",
      "\u001b[1;32m<ipython-input-60-f8271d7270d9>\u001b[0m in \u001b[0;36m<module>\u001b[1;34m()\u001b[0m\n\u001b[0;32m     22\u001b[0m       \u001b[0mlearning_rate\u001b[0m\u001b[1;33m=\u001b[0m\u001b[0mlr_with_warmup\u001b[0m\u001b[1;33m,\u001b[0m\u001b[1;33m\u001b[0m\u001b[0m\n\u001b[0;32m     23\u001b[0m       \u001b[0mlambda_weight\u001b[0m\u001b[1;33m=\u001b[0m\u001b[0mlambda_with_warmup\u001b[0m\u001b[1;33m,\u001b[0m\u001b[1;33m\u001b[0m\u001b[0m\n\u001b[1;32m---> 24\u001b[1;33m       \u001b[0msupervised_batch_size\u001b[0m\u001b[1;33m=\u001b[0m\u001b[1;36m64\u001b[0m\u001b[1;33m\u001b[0m\u001b[0m\n\u001b[0m\u001b[0;32m     25\u001b[0m      )\n",
      "\u001b[1;32m<ipython-input-56-532822a2dbc2>\u001b[0m in \u001b[0;36mtrain\u001b[1;34m(training_data, validation_data, validation_labels, labeled_training, labeled_labels, iterations, flow_batch_size, flow_per_validation, loss_history, learning_rate, lambda_weight, supervised_batch_size)\u001b[0m\n\u001b[0;32m    117\u001b[0m                     \u001b[0mph_y\u001b[0m\u001b[1;33m:\u001b[0m \u001b[0mminibatch_labels\u001b[0m\u001b[1;33m,\u001b[0m\u001b[1;33m\u001b[0m\u001b[0m\n\u001b[0;32m    118\u001b[0m                     \u001b[0mph_learning_rate\u001b[0m\u001b[1;33m:\u001b[0m \u001b[0mlearning_rate\u001b[0m\u001b[1;33m(\u001b[0m\u001b[0mstep\u001b[0m\u001b[1;33m)\u001b[0m\u001b[1;33m,\u001b[0m\u001b[1;33m\u001b[0m\u001b[0m\n\u001b[1;32m--> 119\u001b[1;33m                     \u001b[0mph_lambda\u001b[0m\u001b[1;33m:\u001b[0m \u001b[0mlambda_weight\u001b[0m\u001b[1;33m(\u001b[0m\u001b[0mstep\u001b[0m\u001b[1;33m)\u001b[0m\u001b[1;33m\u001b[0m\u001b[0m\n\u001b[0m\u001b[0;32m    120\u001b[0m                 }\n\u001b[0;32m    121\u001b[0m             )\n",
      "\u001b[1;32m/usr/local/lib/python3.5/dist-packages/tensorflow/python/client/session.py\u001b[0m in \u001b[0;36mrun\u001b[1;34m(self, fetches, feed_dict, options, run_metadata)\u001b[0m\n\u001b[0;32m    927\u001b[0m     \u001b[1;32mtry\u001b[0m\u001b[1;33m:\u001b[0m\u001b[1;33m\u001b[0m\u001b[0m\n\u001b[0;32m    928\u001b[0m       result = self._run(None, fetches, feed_dict, options_ptr,\n\u001b[1;32m--> 929\u001b[1;33m                          run_metadata_ptr)\n\u001b[0m\u001b[0;32m    930\u001b[0m       \u001b[1;32mif\u001b[0m \u001b[0mrun_metadata\u001b[0m\u001b[1;33m:\u001b[0m\u001b[1;33m\u001b[0m\u001b[0m\n\u001b[0;32m    931\u001b[0m         \u001b[0mproto_data\u001b[0m \u001b[1;33m=\u001b[0m \u001b[0mtf_session\u001b[0m\u001b[1;33m.\u001b[0m\u001b[0mTF_GetBuffer\u001b[0m\u001b[1;33m(\u001b[0m\u001b[0mrun_metadata_ptr\u001b[0m\u001b[1;33m)\u001b[0m\u001b[1;33m\u001b[0m\u001b[0m\n",
      "\u001b[1;32m/usr/local/lib/python3.5/dist-packages/tensorflow/python/client/session.py\u001b[0m in \u001b[0;36m_run\u001b[1;34m(self, handle, fetches, feed_dict, options, run_metadata)\u001b[0m\n\u001b[0;32m   1150\u001b[0m     \u001b[1;32mif\u001b[0m \u001b[0mfinal_fetches\u001b[0m \u001b[1;32mor\u001b[0m \u001b[0mfinal_targets\u001b[0m \u001b[1;32mor\u001b[0m \u001b[1;33m(\u001b[0m\u001b[0mhandle\u001b[0m \u001b[1;32mand\u001b[0m \u001b[0mfeed_dict_tensor\u001b[0m\u001b[1;33m)\u001b[0m\u001b[1;33m:\u001b[0m\u001b[1;33m\u001b[0m\u001b[0m\n\u001b[0;32m   1151\u001b[0m       results = self._do_run(handle, final_targets, final_fetches,\n\u001b[1;32m-> 1152\u001b[1;33m                              feed_dict_tensor, options, run_metadata)\n\u001b[0m\u001b[0;32m   1153\u001b[0m     \u001b[1;32melse\u001b[0m\u001b[1;33m:\u001b[0m\u001b[1;33m\u001b[0m\u001b[0m\n\u001b[0;32m   1154\u001b[0m       \u001b[0mresults\u001b[0m \u001b[1;33m=\u001b[0m \u001b[1;33m[\u001b[0m\u001b[1;33m]\u001b[0m\u001b[1;33m\u001b[0m\u001b[0m\n",
      "\u001b[1;32m/usr/local/lib/python3.5/dist-packages/tensorflow/python/client/session.py\u001b[0m in \u001b[0;36m_do_run\u001b[1;34m(self, handle, target_list, fetch_list, feed_dict, options, run_metadata)\u001b[0m\n\u001b[0;32m   1326\u001b[0m     \u001b[1;32mif\u001b[0m \u001b[0mhandle\u001b[0m \u001b[1;32mis\u001b[0m \u001b[1;32mNone\u001b[0m\u001b[1;33m:\u001b[0m\u001b[1;33m\u001b[0m\u001b[0m\n\u001b[0;32m   1327\u001b[0m       return self._do_call(_run_fn, feeds, fetches, targets, options,\n\u001b[1;32m-> 1328\u001b[1;33m                            run_metadata)\n\u001b[0m\u001b[0;32m   1329\u001b[0m     \u001b[1;32melse\u001b[0m\u001b[1;33m:\u001b[0m\u001b[1;33m\u001b[0m\u001b[0m\n\u001b[0;32m   1330\u001b[0m       \u001b[1;32mreturn\u001b[0m \u001b[0mself\u001b[0m\u001b[1;33m.\u001b[0m\u001b[0m_do_call\u001b[0m\u001b[1;33m(\u001b[0m\u001b[0m_prun_fn\u001b[0m\u001b[1;33m,\u001b[0m \u001b[0mhandle\u001b[0m\u001b[1;33m,\u001b[0m \u001b[0mfeeds\u001b[0m\u001b[1;33m,\u001b[0m \u001b[0mfetches\u001b[0m\u001b[1;33m)\u001b[0m\u001b[1;33m\u001b[0m\u001b[0m\n",
      "\u001b[1;32m/usr/local/lib/python3.5/dist-packages/tensorflow/python/client/session.py\u001b[0m in \u001b[0;36m_do_call\u001b[1;34m(self, fn, *args)\u001b[0m\n\u001b[0;32m   1332\u001b[0m   \u001b[1;32mdef\u001b[0m \u001b[0m_do_call\u001b[0m\u001b[1;33m(\u001b[0m\u001b[0mself\u001b[0m\u001b[1;33m,\u001b[0m \u001b[0mfn\u001b[0m\u001b[1;33m,\u001b[0m \u001b[1;33m*\u001b[0m\u001b[0margs\u001b[0m\u001b[1;33m)\u001b[0m\u001b[1;33m:\u001b[0m\u001b[1;33m\u001b[0m\u001b[0m\n\u001b[0;32m   1333\u001b[0m     \u001b[1;32mtry\u001b[0m\u001b[1;33m:\u001b[0m\u001b[1;33m\u001b[0m\u001b[0m\n\u001b[1;32m-> 1334\u001b[1;33m       \u001b[1;32mreturn\u001b[0m \u001b[0mfn\u001b[0m\u001b[1;33m(\u001b[0m\u001b[1;33m*\u001b[0m\u001b[0margs\u001b[0m\u001b[1;33m)\u001b[0m\u001b[1;33m\u001b[0m\u001b[0m\n\u001b[0m\u001b[0;32m   1335\u001b[0m     \u001b[1;32mexcept\u001b[0m \u001b[0merrors\u001b[0m\u001b[1;33m.\u001b[0m\u001b[0mOpError\u001b[0m \u001b[1;32mas\u001b[0m \u001b[0me\u001b[0m\u001b[1;33m:\u001b[0m\u001b[1;33m\u001b[0m\u001b[0m\n\u001b[0;32m   1336\u001b[0m       \u001b[0mmessage\u001b[0m \u001b[1;33m=\u001b[0m \u001b[0mcompat\u001b[0m\u001b[1;33m.\u001b[0m\u001b[0mas_text\u001b[0m\u001b[1;33m(\u001b[0m\u001b[0me\u001b[0m\u001b[1;33m.\u001b[0m\u001b[0mmessage\u001b[0m\u001b[1;33m)\u001b[0m\u001b[1;33m\u001b[0m\u001b[0m\n",
      "\u001b[1;32m/usr/local/lib/python3.5/dist-packages/tensorflow/python/client/session.py\u001b[0m in \u001b[0;36m_run_fn\u001b[1;34m(feed_dict, fetch_list, target_list, options, run_metadata)\u001b[0m\n\u001b[0;32m   1317\u001b[0m       \u001b[0mself\u001b[0m\u001b[1;33m.\u001b[0m\u001b[0m_extend_graph\u001b[0m\u001b[1;33m(\u001b[0m\u001b[1;33m)\u001b[0m\u001b[1;33m\u001b[0m\u001b[0m\n\u001b[0;32m   1318\u001b[0m       return self._call_tf_sessionrun(\n\u001b[1;32m-> 1319\u001b[1;33m           options, feed_dict, fetch_list, target_list, run_metadata)\n\u001b[0m\u001b[0;32m   1320\u001b[0m \u001b[1;33m\u001b[0m\u001b[0m\n\u001b[0;32m   1321\u001b[0m     \u001b[1;32mdef\u001b[0m \u001b[0m_prun_fn\u001b[0m\u001b[1;33m(\u001b[0m\u001b[0mhandle\u001b[0m\u001b[1;33m,\u001b[0m \u001b[0mfeed_dict\u001b[0m\u001b[1;33m,\u001b[0m \u001b[0mfetch_list\u001b[0m\u001b[1;33m)\u001b[0m\u001b[1;33m:\u001b[0m\u001b[1;33m\u001b[0m\u001b[0m\n",
      "\u001b[1;32m/usr/local/lib/python3.5/dist-packages/tensorflow/python/client/session.py\u001b[0m in \u001b[0;36m_call_tf_sessionrun\u001b[1;34m(self, options, feed_dict, fetch_list, target_list, run_metadata)\u001b[0m\n\u001b[0;32m   1405\u001b[0m     return tf_session.TF_SessionRun_wrapper(\n\u001b[0;32m   1406\u001b[0m         \u001b[0mself\u001b[0m\u001b[1;33m.\u001b[0m\u001b[0m_session\u001b[0m\u001b[1;33m,\u001b[0m \u001b[0moptions\u001b[0m\u001b[1;33m,\u001b[0m \u001b[0mfeed_dict\u001b[0m\u001b[1;33m,\u001b[0m \u001b[0mfetch_list\u001b[0m\u001b[1;33m,\u001b[0m \u001b[0mtarget_list\u001b[0m\u001b[1;33m,\u001b[0m\u001b[1;33m\u001b[0m\u001b[0m\n\u001b[1;32m-> 1407\u001b[1;33m         run_metadata)\n\u001b[0m\u001b[0;32m   1408\u001b[0m \u001b[1;33m\u001b[0m\u001b[0m\n\u001b[0;32m   1409\u001b[0m   \u001b[1;32mdef\u001b[0m \u001b[0m_call_tf_sessionprun\u001b[0m\u001b[1;33m(\u001b[0m\u001b[0mself\u001b[0m\u001b[1;33m,\u001b[0m \u001b[0mhandle\u001b[0m\u001b[1;33m,\u001b[0m \u001b[0mfeed_dict\u001b[0m\u001b[1;33m,\u001b[0m \u001b[0mfetch_list\u001b[0m\u001b[1;33m)\u001b[0m\u001b[1;33m:\u001b[0m\u001b[1;33m\u001b[0m\u001b[0m\n",
      "\u001b[1;31mKeyboardInterrupt\u001b[0m: "
     ]
    }
   ],
   "source": [
    "## Only Joint Training\n",
    "\n",
    "def lr_with_warmup(step):\n",
    "    warmup_steps = 1000\n",
    "    learning_rate = 1e-3\n",
    "    return min(learning_rate * step / warmup_steps, learning_rate)\n",
    "\n",
    "def lambda_with_warmup(step):\n",
    "    warmup_steps = 500\n",
    "    lambda_val = 1\n",
    "    return min(lambda_val * step / warmup_steps, lambda_val)\n",
    "\n",
    "\n",
    "train(training_data=None,\n",
    "      validation_data=val_data,\n",
    "      validation_labels=val_labels,\n",
    "      labeled_training=labeled_data[:100],\n",
    "      labeled_labels=labeled_labels[:100],\n",
    "      iterations=20000,\n",
    "      flow_batch_size=0,\n",
    "      loss_history=loss_history,\n",
    "      learning_rate=lr_with_warmup,\n",
    "      lambda_weight=lambda_with_warmup,\n",
    "      supervised_batch_size=64\n",
    ")"
   ]
  },
  {
   "cell_type": "code",
   "execution_count": null,
   "metadata": {
    "collapsed": true
   },
   "outputs": [],
   "source": [
    "# compute NLL\n",
    "def nll(images, true_labels):\n",
    "    batch_size = 64\n",
    "    probs = []\n",
    "    total_batches = len(images) // batch_size\n",
    "    for qwe in range(total_batches):\n",
    "        minibatch = np.array(images[ (qwe*batch_size) : ((qwe+1) * batch_size) , :])\n",
    "        prob = sess.run( [tf_prob_y],\n",
    "                        feed_dict={\n",
    "                            ph_x: minibatch + np.random.uniform(low=0.0, high=1.0, size=minibatch.shape),\n",
    "                        })\n",
    "        probs += prob\n",
    "    \n",
    "    computed_num = total_batches * batch_size\n",
    "    nll_list = []\n",
    "    #print(probs)\n",
    "    prob_list = probs[0]\n",
    "    # print(prob_list)\n",
    "    for p, label in zip(prob_list, true_labels[:computed_num]):\n",
    "        #print(label)\n",
    "        #print(p)\n",
    "        nll_list.append(-np.log(p[label]))\n",
    "        \n",
    "    return np.mean(np.array(nll_list))"
   ]
  },
  {
   "cell_type": "code",
   "execution_count": null,
   "metadata": {
    "collapsed": true
   },
   "outputs": [],
   "source": []
  },
  {
   "cell_type": "code",
   "execution_count": null,
   "metadata": {
    "collapsed": true
   },
   "outputs": [],
   "source": [
    "nll(test_data, test_labels_o)"
   ]
  },
  {
   "cell_type": "code",
   "execution_count": null,
   "metadata": {
    "collapsed": true
   },
   "outputs": [],
   "source": [
    "index=20\n",
    "im_test = test_data[index:index+1]\n",
    "im_label = test_labels[index:index+1]\n",
    "prob, true_labels, pred_labels = sess.run( [tf_prob_y, tf_true_labels, tf_predicted_labels],\n",
    "                feed_dict={\n",
    "                    ph_x: im_test + 0.5,# np.random.uniform(low=0.0, high=1.0, size=im_test.shape),\n",
    "                    ph_y: im_label\n",
    "                })\n",
    "print(prob, true_labels, pred_labels)\n",
    "hf.show_sample(im_test[0])"
   ]
  },
  {
   "cell_type": "code",
   "execution_count": null,
   "metadata": {
    "collapsed": false
   },
   "outputs": [],
   "source": [
    "## Semi Supervised Learning\n",
    "# Only classifer\n",
    "\n",
    "def lr_with_warmup(step):\n",
    "    warmup_steps = 1000\n",
    "    learning_rate = 1e-3\n",
    "    return min(learning_rate * step / warmup_steps, learning_rate)\n",
    "\n",
    "def lambda_weight_with_warmup(step):\n",
    "    warmup_steps = 10000\n",
    "    lambda_weight = 0.95\n",
    "    return min(lambda_weight * step / warmup_steps, lambda_weight)\n",
    "\n",
    "\n",
    "train(training_data=None,\n",
    "      validation_data=val_data,\n",
    "      validation_labels=val_labels,\n",
    "      labeled_training=labeled_data,\n",
    "      labeled_labels=labeled_labels,          \n",
    "      iterations=2000,\n",
    "      flow_batch_size=0,\n",
    "      flow_per_validation=0,\n",
    "      loss_history=loss_history,\n",
    "      learning_rate=lr_with_warmup,\n",
    "      lambda_weight=0.5,\n",
    "      supervised_batch_size=32\n",
    "     )"
   ]
  },
  {
   "cell_type": "code",
   "execution_count": null,
   "metadata": {
    "collapsed": false
   },
   "outputs": [],
   "source": [
    "## Semi Supervised Learning\n",
    "#  classifer with all unlabled samples\n",
    "\n",
    "def lr_with_warmup(step):\n",
    "    warmup_steps = 1000\n",
    "    learning_rate = 1e-3\n",
    "    return min(learning_rate * step / warmup_steps, learning_rate)\n",
    "\n",
    "def lambda_weight_with_warmup(step):\n",
    "    warmup_steps = 10\n",
    "    lambda_weight = 0.95\n",
    "    return min(lambda_weight * step / warmup_steps, lambda_weight)\n",
    "\n",
    "\n",
    "train(training_data=training_data[0:50000],\n",
    "      validation_data=val_data,\n",
    "      validation_labels=val_labels,\n",
    "      labeled_training=labeled_data,\n",
    "      labeled_labels=labeled_labels,          \n",
    "      iterations=200000,\n",
    "      flow_batch_size=64,\n",
    "      flow_per_validation=1,\n",
    "      loss_history=loss_history,\n",
    "      learning_rate=lr_with_warmup,\n",
    "      lambda_weight=0.5,\n",
    "      supervised_batch_size=32\n",
    "     )"
   ]
  },
  {
   "cell_type": "code",
   "execution_count": null,
   "metadata": {
    "collapsed": true
   },
   "outputs": [],
   "source": [
    "# save loss histroy\n",
    "with open('loss_histroy_single_scale_exp3.pkl', 'wb') as f:\n",
    "    pickle.dump(loss_history, f)\n",
    "loss_history"
   ]
  },
  {
   "cell_type": "code",
   "execution_count": null,
   "metadata": {
    "collapsed": true
   },
   "outputs": [],
   "source": []
  },
  {
   "cell_type": "code",
   "execution_count": null,
   "metadata": {
    "collapsed": true
   },
   "outputs": [],
   "source": []
  },
  {
   "cell_type": "code",
   "execution_count": null,
   "metadata": {
    "collapsed": true
   },
   "outputs": [],
   "source": []
  },
  {
   "cell_type": "code",
   "execution_count": null,
   "metadata": {
    "collapsed": true
   },
   "outputs": [],
   "source": []
  },
  {
   "cell_type": "markdown",
   "metadata": {},
   "source": [
    "# sucsessful unit tests on layers"
   ]
  },
  {
   "cell_type": "code",
   "execution_count": null,
   "metadata": {
    "collapsed": true
   },
   "outputs": [],
   "source": []
  },
  {
   "cell_type": "code",
   "execution_count": null,
   "metadata": {
    "collapsed": true
   },
   "outputs": [],
   "source": []
  },
  {
   "cell_type": "code",
   "execution_count": null,
   "metadata": {
    "collapsed": true
   },
   "outputs": [],
   "source": []
  },
  {
   "cell_type": "code",
   "execution_count": null,
   "metadata": {
    "collapsed": true
   },
   "outputs": [],
   "source": []
  },
  {
   "cell_type": "code",
   "execution_count": null,
   "metadata": {
    "collapsed": true
   },
   "outputs": [],
   "source": []
  },
  {
   "cell_type": "code",
   "execution_count": null,
   "metadata": {
    "collapsed": true
   },
   "outputs": [],
   "source": []
  },
  {
   "cell_type": "code",
   "execution_count": null,
   "metadata": {
    "collapsed": true
   },
   "outputs": [],
   "source": []
  },
  {
   "cell_type": "code",
   "execution_count": null,
   "metadata": {
    "collapsed": true
   },
   "outputs": [],
   "source": []
  },
  {
   "cell_type": "code",
   "execution_count": null,
   "metadata": {
    "collapsed": true
   },
   "outputs": [],
   "source": []
  },
  {
   "cell_type": "code",
   "execution_count": null,
   "metadata": {
    "collapsed": true
   },
   "outputs": [],
   "source": []
  },
  {
   "cell_type": "code",
   "execution_count": null,
   "metadata": {
    "collapsed": true
   },
   "outputs": [],
   "source": []
  },
  {
   "cell_type": "code",
   "execution_count": null,
   "metadata": {
    "collapsed": true
   },
   "outputs": [],
   "source": []
  },
  {
   "cell_type": "code",
   "execution_count": null,
   "metadata": {
    "collapsed": true
   },
   "outputs": [],
   "source": []
  }
 ],
 "metadata": {
  "kernelspec": {
   "display_name": "Python 3",
   "language": "python",
   "name": "python3"
  },
  "language_info": {
   "codemirror_mode": {
    "name": "ipython",
    "version": 3
   },
   "file_extension": ".py",
   "mimetype": "text/x-python",
   "name": "python",
   "nbconvert_exporter": "python",
   "pygments_lexer": "ipython3",
   "version": "3.5.2"
  }
 },
 "nbformat": 4,
 "nbformat_minor": 2
}
