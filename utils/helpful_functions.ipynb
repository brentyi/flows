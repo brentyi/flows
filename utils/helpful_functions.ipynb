{
 "cells": [
  {
   "cell_type": "code",
   "execution_count": 6,
   "metadata": {
    "collapsed": true
   },
   "outputs": [],
   "source": [
    "import numpy as np \n",
    "import tensorflow as tf\n",
    "import matplotlib.pyplot as plt\n",
    "import numpy as np\n",
    "import matplotlib.mlab as mlab\n",
    "import math\n",
    "import time\n",
    "import pickle"
   ]
  },
  {
   "cell_type": "code",
   "execution_count": 7,
   "metadata": {
    "collapsed": true
   },
   "outputs": [],
   "source": [
    "def make_one_hot(labels, num_classes=10): \n",
    "    b = np.zeros((len(labels), num_classes))\n",
    "    b[np.arange(len(labels)), labels] = 1\n",
    "    return b\n",
    "\n",
    "def show_sample(x, show=True, plot=plt, discrete=True):\n",
    "    # TODO: reconsider this guy divide by 4?\n",
    "    x = np.clip((x[:,:,:]) / 255.0, 0.0, 1.0)\n",
    "    if discrete:\n",
    "        x *= 255\n",
    "        x = np.round(x)\n",
    "        x /= 255\n",
    "    \n",
    "    if x.shape[2] == 1:\n",
    "        plot.imshow(x[:,:,0])\n",
    "    else:\n",
    "        plot.imshow(x)\n",
    "    if show:\n",
    "        plt.show()\n",
    "        \n",
    "def get_mnist(orig=False):\n",
    "    train_d, test_d = tf.keras.datasets.mnist.load_data()\n",
    "\n",
    "    train = train_d[0]\n",
    "    test = test_d[0]\n",
    "    \n",
    "    # Pad with zeros to make 32x23\n",
    "    train = np.lib.pad(train, ((0, 0), (2, 2), (2, 2)), 'minimum')\n",
    "    test  = np.lib.pad(test, ((0, 0), (2, 2), (2, 2)), 'minimum')\n",
    "        \n",
    "    if not orig:\n",
    "        # convert to rgb\n",
    "        train   = np.tile(np.reshape(train, (-1, 32, 32, 1)), (1, 1, 1, 3))\n",
    "        test    = np.tile(np.reshape(test, (-1, 32, 32, 1)), (1, 1, 1, 3))\n",
    "    else:\n",
    "        train = np.expand_dims(train, axis = 3)\n",
    "        test  = np.expand_dims(test, axis = 3)\n",
    "\n",
    "    return train, train_d[1], test, test_d[1]\n",
    "\n",
    "def get_cifar():\n",
    "    train_d, test_d = tf.keras.datasets.cifar10.load_data()\n",
    "    train = train_d[0]\n",
    "    test = test_d[0]\n",
    "    return train, train_d[1], test, test_d[1]\n",
    "\n",
    "def split_train_val(train, train_label, validation_size=1000):\n",
    "\n",
    "    total_count = len(train)\n",
    "    train_size = total_count - validation_size\n",
    "    \n",
    "    val_new     = train[train_size:]\n",
    "    train_new   = train[0:train_size]\n",
    "    \n",
    "    val_label_new   = train_label[train_size:]\n",
    "    train_label_new = train_label[0:train_size]\n",
    "    \n",
    "    return train_new, train_label_new, val_new, val_label_new\n",
    "\n",
    "def is_same(img_a, img_b):\n",
    "    img_a = img_a.copy()\n",
    "    img_b = img_b.copy()\n",
    "    \n",
    "    \n",
    "    # discritize\n",
    "    img_a = np.clip((img_a[:,:,:]) / 255.0, 0.0, 1.0)\n",
    "    img_a *= 255\n",
    "    img_a = np.round(img_a)\n",
    "    \n",
    "    img_b = np.clip((img_b[:,:,:]) / 255.0, 0.0, 1.0)\n",
    "    img_b *= 255\n",
    "    img_b = np.round(img_b)\n",
    "    \n",
    "    # check if there is any difference\n",
    "    is_same = np.any(img_a - img_b)\n",
    "    \n",
    "    if is_same:\n",
    "        return 0\n",
    "    else: \n",
    "        return np.linalg.norm(img_a - img_b)"
   ]
  },
  {
   "cell_type": "code",
   "execution_count": 2,
   "metadata": {
    "collapsed": true
   },
   "outputs": [],
   "source": [
    "# train, train_label, test, test_label = get_mnist()\n",
    "# train, train_label, val, val_label = split_train_val(train, train_label)\n",
    "# show_sample(train[0])\n",
    "# print(train_label[0])\n",
    "# show_sample(val[0])\n",
    "# print(val_label[0])\n",
    "# show_sample(test[0])\n",
    "# print(test_label[0])"
   ]
  },
  {
   "cell_type": "code",
   "execution_count": null,
   "metadata": {
    "collapsed": true
   },
   "outputs": [],
   "source": [
    "def visualize_staff_interpolation(sess, ph_x, tf_z, ph_inverse_z, tf_inverse_x, staff):\n",
    "    fig, ax = plt.subplots(nrows=len(staff) - 1, ncols=5)\n",
    "    fig.set_figheight(5)\n",
    "    fig.set_figwidth(10)\n",
    "    fig.suptitle(\"Interpolated Faces\")\n",
    "    i = 0\n",
    "    for row in ax:\n",
    "        start = staff[i]\n",
    "        end = staff[i + 1]\n",
    "        i += 1\n",
    "\n",
    "        start_latent, end_latent = sess.run(tf_z, feed_dict={ph_x: [\n",
    "            start,\n",
    "            end\n",
    "        ]})\n",
    "\n",
    "        interpolated_latent = [start_latent + (end_latent - start_latent) * j / 4.0  for j in range(5)]\n",
    "        samples = sess.run(tf_inverse_x, feed_dict={ph_inverse_z: interpolated_latent})\n",
    "        for col, sample in zip(row, samples):\n",
    "            col.axis(\"off\")\n",
    "            show_sample(sample, show=False, plot=col)\n",
    "    plt.show()"
   ]
  },
  {
   "cell_type": "code",
   "execution_count": 1,
   "metadata": {
    "collapsed": true
   },
   "outputs": [],
   "source": [
    "def plot_loss(loss_history, start=0):\n",
    "    plt.title(\"Losses\")\n",
    "    plt.plot([l[0] for l in loss_history[start:]], label=\"Training\", alpha=0.5)\n",
    "    plt.plot(\n",
    "        [x for x in range(len(loss_history[start:])) if loss_history[x + start][1] != None],\n",
    "        [l[1] for l in loss_history[start:] if l[1] != None],\n",
    "        label=\"Validation\"\n",
    "    )\n",
    "    #plt.plot([pixelcnn_model.compute_loss(test_data)] * len(loss_history[start:]), label=\"Test\")\n",
    "    plt.legend()\n",
    "    plt.ylabel(\"Loss (bits/dim)\")\n",
    "    plt.xlabel(\"Training Steps\")\n",
    "    plt.show()"
   ]
  },
  {
   "cell_type": "code",
   "execution_count": 9,
   "metadata": {
    "collapsed": true
   },
   "outputs": [],
   "source": [
    "training_data, train_label, test_data, test_label = get_mnist(orig=True)"
   ]
  },
  {
   "cell_type": "code",
   "execution_count": 11,
   "metadata": {
    "collapsed": false
   },
   "outputs": [
    {
     "data": {
      "text/plain": [
       "<matplotlib.image.AxesImage at 0x7f1f3f438a20>"
      ]
     },
     "execution_count": 11,
     "metadata": {},
     "output_type": "execute_result"
    },
    {
     "data": {
      "image/png": "[encoded data removed]",
      "text/plain": [
       "<matplotlib.figure.Figure at 0x7f1f4165a048>"
      ]
     },
     "metadata": {},
     "output_type": "display_data"
    }
   ],
   "source": [
    "plt.imshow(training_data[0][:,:,0])"
   ]
  },
  {
   "cell_type": "code",
   "execution_count": null,
   "metadata": {
    "collapsed": true
   },
   "outputs": [],
   "source": []
  }
 ],
 "metadata": {
  "kernelspec": {
   "display_name": "Python 3",
   "language": "python",
   "name": "python3"
  },
  "language_info": {
   "codemirror_mode": {
    "name": "ipython",
    "version": 3
   },
   "file_extension": ".py",
   "mimetype": "text/x-python",
   "name": "python",
   "nbconvert_exporter": "python",
   "pygments_lexer": "ipython3",
   "version": "3.6.5"
  }
 },
 "nbformat": 4,
 "nbformat_minor": 2
}
